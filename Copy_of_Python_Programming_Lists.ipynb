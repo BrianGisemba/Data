{
  "nbformat": 4,
  "nbformat_minor": 0,
  "metadata": {
    "colab": {
      "name": "Copy of Python Programming: Lists",
      "provenance": [],
      "collapsed_sections": [
        "YfJpi7DB5b1G",
        "m6MMTVzP76zo",
        "HKfD8HjY5cmv",
        "qAB7efGz8GL9",
        "p4UR_FuR5qLx",
        "H3Z5_lcs8XNH",
        "cCvsMHqK5fUn",
        "1qG1ecRh8mC9",
        "Fs8XTeN45iFS",
        "SJmtZJu48z-Q",
        "QIPUN0KJ5mdp",
        "5WwBTWk58-Nj"
      ],
      "toc_visible": true,
      "include_colab_link": true
    },
    "kernelspec": {
      "name": "python3",
      "display_name": "Python 3"
    }
  },
  "cells": [
    {
      "cell_type": "markdown",
      "metadata": {
        "id": "view-in-github",
        "colab_type": "text"
      },
      "source": [
        "<a href=\"https://colab.research.google.com/github/BrianGisemba/Data/blob/main/Copy_of_Python_Programming_Lists.ipynb\" target=\"_parent\"><img src=\"https://colab.research.google.com/assets/colab-badge.svg\" alt=\"Open In Colab\"/></a>"
      ]
    },
    {
      "cell_type": "markdown",
      "metadata": {
        "id": "wbJA7xUzEy9k"
      },
      "source": [
        "<font color=\"green\">*To start working on this notebook, or any other notebook that we will use in the Moringa Data Science Course, we will need to save our own copy of it. We can do this by clicking File > Save a Copy in Drive. We will then be able to make edits to our own copy of this notebook.*</font>"
      ]
    },
    {
      "cell_type": "markdown",
      "metadata": {
        "id": "gaWkCnZQ5Sbx"
      },
      "source": [
        "# Python Programming: Lists"
      ]
    },
    {
      "cell_type": "markdown",
      "metadata": {
        "id": "YfJpi7DB5b1G"
      },
      "source": [
        "## 1.0 Creating a List"
      ]
    },
    {
      "cell_type": "code",
      "metadata": {
        "id": "S1JygPfZ6_LB",
        "colab": {
          "base_uri": "https://localhost:8080/"
        },
        "outputId": "e934a5c4-6155-4d71-b036-b22bbf86074b"
      },
      "source": [
        "# Example 1\n",
        "# Lists can be created by placing a sequence inside square brackets.\n",
        "# They are ordered and changeable and can also contain duplicate items.\n",
        "# We will start to create a list called fruits\n",
        "#\n",
        "fruits = [\"bananas\", \"grapes\", \"mangoes\"]\n",
        "print(fruits)\n",
        "\n",
        "# In python, elements in a list are referenced using indices. Indices (singular: index) are number used to tell the position of an elment in a list. The first element in  a list is assigned an index of 0. \n",
        "# For example in the list we created, bananas is at index 0 and mangoes is at index 2. \n",
        "# Indices are very important especially when we want to update, delete or access items in a list."
      ],
      "execution_count": null,
      "outputs": [
        {
          "output_type": "stream",
          "text": [
            "['bananas', 'grapes', 'mangoes']\n"
          ],
          "name": "stdout"
        }
      ]
    },
    {
      "cell_type": "code",
      "metadata": {
        "id": "VTtUQP6zzVDw",
        "colab": {
          "base_uri": "https://localhost:8080/"
        },
        "outputId": "28bd858a-ef06-4280-c2b1-7d3b780172bf"
      },
      "source": [
        "# Example 2\n",
        "# We will also create a list called kenyan_football_players\n",
        "#\n",
        "kenyan_football_players = [\"Victor Wanyama\", \"Michael Olunga\", \"McDonald Mariga\"]\n",
        "print(kenyan_football_players)"
      ],
      "execution_count": null,
      "outputs": [
        {
          "output_type": "stream",
          "text": [
            "['Victor Wanyama', 'Michael Olunga', 'McDonald Mariga']\n"
          ],
          "name": "stdout"
        }
      ]
    },
    {
      "cell_type": "code",
      "metadata": {
        "id": "dW9hKVZRzdJv",
        "colab": {
          "base_uri": "https://localhost:8080/"
        },
        "outputId": "ef143626-b7fb-4e51-cf7d-09091e1b9763"
      },
      "source": [
        "# Example 3\n",
        "# And lastly, create a list called kenyan cities\n",
        "#\n",
        "kenyan_cities = [\"Nairobi\", \"Mombasa\", \"Kisumu\"]\n",
        "print(kenyan_cities)"
      ],
      "execution_count": 4,
      "outputs": [
        {
          "output_type": "stream",
          "text": [
            "['Nairobi', 'Mombasa', 'Kisumu']\n"
          ],
          "name": "stdout"
        }
      ]
    },
    {
      "cell_type": "markdown",
      "metadata": {
        "id": "m6MMTVzP76zo"
      },
      "source": [
        "### <font color=\"green\">1.1 Challenges</font>"
      ]
    },
    {
      "cell_type": "code",
      "metadata": {
        "id": "0dhSpupB72TX",
        "colab": {
          "base_uri": "https://localhost:8080/"
        },
        "outputId": "2aabdcd7-0780-405c-e476-371f6444c907"
      },
      "source": [
        "# Challenge 1: \n",
        "# Let's create a list of 3 counties in Kenya and then print out the list below;\n",
        "# \n",
        "Counties = [\"Kajiado\",\"Nairobi\",\"Kiambu\"]\n",
        "print(Counties)"
      ],
      "execution_count": null,
      "outputs": [
        {
          "output_type": "stream",
          "text": [
            "['Kajiado', 'Nairobi', 'Kiambu']\n"
          ],
          "name": "stdout"
        }
      ]
    },
    {
      "cell_type": "code",
      "metadata": {
        "id": "yclsB_-Z74U6",
        "colab": {
          "base_uri": "https://localhost:8080/"
        },
        "outputId": "c5116cd5-5cbb-41d2-d6ad-f3a1fc803ce7"
      },
      "source": [
        "# Challenge 2: \n",
        "# Create a list of 5 African presidents and print out the list below;\n",
        "# \n",
        "African_presidents = [\"Uhuru Kenyatta\",\"Evariste Ndayishimeye\",\"Yoweri Museveni\",\"Edgar Lungu\",\"Emmerson Mnangagwa\"]\n",
        "print(African_presidents)"
      ],
      "execution_count": null,
      "outputs": [
        {
          "output_type": "stream",
          "text": [
            "['Uhuru Kenyatta', 'Evariste Ndayishimeye', 'Yoweri Museveni', 'Edgar Lungu', 'Emmerson Mnangagwa']\n"
          ],
          "name": "stdout"
        }
      ]
    },
    {
      "cell_type": "code",
      "metadata": {
        "id": "pjqd1Qqf8BRT",
        "colab": {
          "base_uri": "https://localhost:8080/"
        },
        "outputId": "285daea5-c5e8-44d6-a6ba-c054261cf886"
      },
      "source": [
        "# Challenge 3: \n",
        "# Create a list of 5 members of your moringa class and print out the list;\n",
        "#\n",
        "moringa_cohort_10 = [\"Ian\",\"Kelvin\",\"Eileen\",\"Maureen\",\"Joshua\"]\n",
        "print(moringa_cohort_10)"
      ],
      "execution_count": null,
      "outputs": [
        {
          "output_type": "stream",
          "text": [
            "['Ian', 'Kelvin', 'Eileen', 'Maureen', 'Joshua']\n"
          ],
          "name": "stdout"
        }
      ]
    },
    {
      "cell_type": "markdown",
      "metadata": {
        "id": "HKfD8HjY5cmv"
      },
      "source": [
        "## 1.2 Adding Elements to a List"
      ]
    },
    {
      "cell_type": "code",
      "metadata": {
        "id": "TmyVQVnD7cO3",
        "colab": {
          "base_uri": "https://localhost:8080/"
        },
        "outputId": "48c81f0f-cbbf-4264-ac76-3e79f86c50b9"
      },
      "source": [
        "# Example 1\n",
        "# We use the append() item to add an element to a list as shown below:\n",
        "# Adding the city Nakuru to the kenyan_cities list \n",
        "#\n",
        "kenyan_cities.append(\"Nakuru\")\n",
        "print(kenyan_cities)"
      ],
      "execution_count": null,
      "outputs": [
        {
          "output_type": "stream",
          "text": [
            "['Nairobi', 'Mombasa', 'Kisumu', 'Nakuru']\n"
          ],
          "name": "stdout"
        }
      ]
    },
    {
      "cell_type": "code",
      "metadata": {
        "id": "Ut93O1NQ0UNa",
        "colab": {
          "base_uri": "https://localhost:8080/"
        },
        "outputId": "3c8c9425-4efc-4eeb-9a7c-67443b44440a"
      },
      "source": [
        "# Example 2\n",
        "# We add the county Turkana to our counties list \n",
        "# and print out the list as shown below;\n",
        "#\n",
        "Counties.append(\"Turkana\")\n",
        "print(Counties)"
      ],
      "execution_count": null,
      "outputs": [
        {
          "output_type": "stream",
          "text": [
            "['Kajiado', 'Nairobi', 'Kiambu', 'Turkana', 'Turkana']\n"
          ],
          "name": "stdout"
        }
      ]
    },
    {
      "cell_type": "code",
      "metadata": {
        "id": "b9OWSkyh0T-N",
        "colab": {
          "base_uri": "https://localhost:8080/"
        },
        "outputId": "abc2e54d-2e53-4ca9-dbba-6d5ace534f1d"
      },
      "source": [
        "# Example 3\n",
        "# Let's add the footballer Francis Kahata to the \n",
        "# kenyan_football_players list defined above and print out the list\n",
        "#\n",
        "kenyan_football_players.append(\"Francis Kahata\")\n",
        "print(kenyan_football_players)\n"
      ],
      "execution_count": null,
      "outputs": [
        {
          "output_type": "stream",
          "text": [
            "['Victor Wanyama', 'Michael Olunga', 'McDonald Mariga', 'Francis Kahata', 'Francis Kahata']\n"
          ],
          "name": "stdout"
        }
      ]
    },
    {
      "cell_type": "markdown",
      "metadata": {
        "id": "qAB7efGz8GL9"
      },
      "source": [
        "### <font color=\"green\">1.2 Challenges</font>"
      ]
    },
    {
      "cell_type": "code",
      "metadata": {
        "id": "wG25-7Hp8FaS",
        "colab": {
          "base_uri": "https://localhost:8080/"
        },
        "outputId": "cd141169-a3c8-4af3-c3dc-3147cd7d310b"
      },
      "source": [
        "# Challenge 1: Add a third county to the county list \n",
        "# that you defined above and then print out the list.\n",
        "# \n",
        "Counties.append(\"Nakuru\")\n",
        "print(Counties)"
      ],
      "execution_count": null,
      "outputs": [
        {
          "output_type": "stream",
          "text": [
            "['Kajiado', 'Nairobi', 'Kiambu', 'Turkana', 'Turkana', 'Nakuru']\n"
          ],
          "name": "stdout"
        }
      ]
    },
    {
      "cell_type": "code",
      "metadata": {
        "id": "viPcTuNQ8Kmf",
        "colab": {
          "base_uri": "https://localhost:8080/"
        },
        "outputId": "def49cfd-dfac-4b10-9049-2397254e1734"
      },
      "source": [
        "# Challenge 2: \n",
        "# Add a fifth and a sixth president to the african presidents \n",
        "# you defined above and print out the list.\n",
        "African_presidents.append(\"Brahim Ghali\")\n",
        "African_presidents.append(\"Abdel Fattah al-Burhan\")\n",
        "print(African_presidents)"
      ],
      "execution_count": null,
      "outputs": [
        {
          "output_type": "stream",
          "text": [
            "['Uhuru Kenyatta', 'Evariste Ndayishimeye', 'Yoweri Museveni', 'Edgar Lungu', 'Emmerson Mnangagwa', 'Brahim Ghali', 'Abdel Fattah al-Burhan']\n"
          ],
          "name": "stdout"
        }
      ]
    },
    {
      "cell_type": "code",
      "metadata": {
        "id": "-xXlnKSX8MeE",
        "colab": {
          "base_uri": "https://localhost:8080/"
        },
        "outputId": "d8b7d4d1-d80c-492b-a28f-1277d4d55025"
      },
      "source": [
        "# Challenge 3: \n",
        "# Add two more members to the moringa class list that \n",
        "# you defined above and print out the list.\n",
        "#\n",
        "moringa_cohort_10.append(\"Caleb\")\n",
        "moringa_cohort_10.append(\"Imelda\")\n",
        "print(moringa_cohort_10)"
      ],
      "execution_count": null,
      "outputs": [
        {
          "output_type": "stream",
          "text": [
            "['Ian', 'Kelvin', 'Eileen', 'Maureen', 'Joshua', 'Caleb', 'Imelda']\n"
          ],
          "name": "stdout"
        }
      ]
    },
    {
      "cell_type": "markdown",
      "metadata": {
        "id": "p4UR_FuR5qLx"
      },
      "source": [
        "## 1.3 Updating Elements in a List"
      ]
    },
    {
      "cell_type": "code",
      "metadata": {
        "id": "sOjwAQdu7q9Y",
        "colab": {
          "base_uri": "https://localhost:8080/"
        },
        "outputId": "267a1479-9d9e-4c8b-b03b-080568a7ae64"
      },
      "source": [
        "# Example 1\n",
        "# The value of a specific item in a list can be changed by referring to the index number as shown;\n",
        "# Let's update the first element in the kenyan_cities list then print it out\n",
        "# \n",
        "kenyan_cities[0] = \"Kwale\"\n",
        "print(kenyan_cities[0])"
      ],
      "execution_count": null,
      "outputs": [
        {
          "output_type": "stream",
          "text": [
            "Kwale\n"
          ],
          "name": "stdout"
        }
      ]
    },
    {
      "cell_type": "code",
      "metadata": {
        "id": "TA8RhFajBl-P",
        "colab": {
          "base_uri": "https://localhost:8080/"
        },
        "outputId": "9456e779-07ba-4fb2-b0a8-eb2c435ebc74"
      },
      "source": [
        "# Example 2\n",
        "# Let's update the second element in the kenyan_football_players \n",
        "# list with Musa Mohammed then print out the list\n",
        "#\n",
        "kenyan_football_players[1]\n",
        "print(kenyan_football_players[1])"
      ],
      "execution_count": null,
      "outputs": [
        {
          "output_type": "stream",
          "text": [
            "Michael Olunga\n"
          ],
          "name": "stdout"
        }
      ]
    },
    {
      "cell_type": "code",
      "metadata": {
        "id": "7OfX19kCBl1b",
        "colab": {
          "base_uri": "https://localhost:8080/"
        },
        "outputId": "2d72367d-aa3b-48d8-c256-088c2d604d5a"
      },
      "source": [
        "# Example 3\n",
        "# Let's update the third element in the moringa \n",
        "# class list with your name then print out the list\n",
        "# \n",
        "moringa_cohort_10[2]\n",
        "print(moringa_cohort_10[2])"
      ],
      "execution_count": null,
      "outputs": [
        {
          "output_type": "stream",
          "text": [
            "Eileen\n"
          ],
          "name": "stdout"
        }
      ]
    },
    {
      "cell_type": "markdown",
      "metadata": {
        "id": "H3Z5_lcs8XNH"
      },
      "source": [
        "### <font color=\"green\">1.3 Challenges</font>"
      ]
    },
    {
      "cell_type": "code",
      "metadata": {
        "id": "dVQ1NNCm8QSb",
        "colab": {
          "base_uri": "https://localhost:8080/"
        },
        "outputId": "542e11f7-91e4-4ae9-e7a6-be2474999bec"
      },
      "source": [
        "# Challenge 1\n",
        "# Update the second county to the county list that \n",
        "# you defined above and then print out the list.\n",
        "# (NB: Update of choice)\n",
        "#\n",
        "Counties[1]\n",
        "print(Counties[1])"
      ],
      "execution_count": null,
      "outputs": [
        {
          "output_type": "stream",
          "text": [
            "Nairobi\n"
          ],
          "name": "stdout"
        }
      ]
    },
    {
      "cell_type": "code",
      "metadata": {
        "id": "FhFJuVjq8Ros",
        "colab": {
          "base_uri": "https://localhost:8080/"
        },
        "outputId": "e670b524-a466-4301-ac60-88c4d16f2fc8"
      },
      "source": [
        "# Challenge 2\n",
        "# Update the third and fourth president of the african presidents \n",
        "# list that you defined above and then print out the list.\n",
        "# (NB: Update of choice) \n",
        "#\n",
        "African_presidents[2]\n",
        "African_presidents[3]\n",
        "print(African_presidents[2],\n",
        "      African_presidents[3])"
      ],
      "execution_count": null,
      "outputs": [
        {
          "output_type": "stream",
          "text": [
            "Yoweri Museveni Edgar Lungu\n"
          ],
          "name": "stdout"
        }
      ]
    },
    {
      "cell_type": "code",
      "metadata": {
        "id": "lsUfPEmI8TYI",
        "colab": {
          "base_uri": "https://localhost:8080/"
        },
        "outputId": "6ffa52c4-4c04-43e6-f631-da8972e040d0"
      },
      "source": [
        "# Challenge 3\n",
        "# Update all items in your class list \n",
        "# that you defined above with a new list and then print out that list. \n",
        "# \n",
        "moringa_cohort_10[:]\n",
        "print(moringa_cohort_10[:])\n"
      ],
      "execution_count": null,
      "outputs": [
        {
          "output_type": "stream",
          "text": [
            "['Ian', 'Kelvin', 'Eileen', 'Maureen', 'Joshua', 'Caleb', 'Imelda']\n"
          ],
          "name": "stdout"
        }
      ]
    },
    {
      "cell_type": "markdown",
      "metadata": {
        "id": "cCvsMHqK5fUn"
      },
      "source": [
        "## 1.4 Accessing Elements from a List"
      ]
    },
    {
      "cell_type": "code",
      "metadata": {
        "id": "pGn2Ei-L8lh4",
        "colab": {
          "base_uri": "https://localhost:8080/"
        },
        "outputId": "560d5c67-a848-4d39-e3fc-7d885e7cea7a"
      },
      "source": [
        "# Example 1\n",
        "# We can access the first item in the fruits list by doing the following\n",
        "# \n",
        "fruits_first_item = fruits[0]\n",
        "print(fruits_first_item)"
      ],
      "execution_count": null,
      "outputs": [
        {
          "output_type": "stream",
          "text": [
            "bananas\n"
          ],
          "name": "stdout"
        }
      ]
    },
    {
      "cell_type": "code",
      "metadata": {
        "id": "iTvwuuY219PO",
        "colab": {
          "base_uri": "https://localhost:8080/"
        },
        "outputId": "6a2b037f-e682-4411-cc57-9b6fff5ddcc0"
      },
      "source": [
        "# Example 2\n",
        "# We can also access the 2nd item in the kenyan_football_players list by;\n",
        "#\n",
        "kenyan_football_players_second_item = kenyan_football_players[1]\n",
        "print(kenyan_football_players_second_item)"
      ],
      "execution_count": null,
      "outputs": [
        {
          "output_type": "stream",
          "text": [
            "Michael Olunga\n"
          ],
          "name": "stdout"
        }
      ]
    },
    {
      "cell_type": "code",
      "metadata": {
        "id": "lVAhEI_G2IAN",
        "colab": {
          "base_uri": "https://localhost:8080/"
        },
        "outputId": "cbae9938-7710-45e1-ec4d-460c0963ff52"
      },
      "source": [
        "# Example 3\n",
        "# We can access the third item in the moringa_class list also by\n",
        "#\n",
        "kenya_football_players_second_item = kenyan_football_players[2]\n",
        "print(kenya_football_players_second_item)"
      ],
      "execution_count": null,
      "outputs": [
        {
          "output_type": "stream",
          "text": [
            "McDonald Mariga\n"
          ],
          "name": "stdout"
        }
      ]
    },
    {
      "cell_type": "markdown",
      "metadata": {
        "id": "1qG1ecRh8mC9"
      },
      "source": [
        "### <font color=\"green\">1.4 Challenges</font>"
      ]
    },
    {
      "cell_type": "code",
      "metadata": {
        "id": "JVE1OqDH8pEK",
        "colab": {
          "base_uri": "https://localhost:8080/"
        },
        "outputId": "7f4f46e4-69c6-4c91-a998-d05da73ae25d"
      },
      "source": [
        "# Challenge 1\n",
        "# Let's access the second item in the fruits list below\n",
        "#\n",
        "fruits_second_item=fruits[1]\n",
        "print(fruits_second_item)"
      ],
      "execution_count": null,
      "outputs": [
        {
          "output_type": "stream",
          "text": [
            "grapes\n"
          ],
          "name": "stdout"
        }
      ]
    },
    {
      "cell_type": "code",
      "metadata": {
        "id": "Caul6cU18o9c",
        "colab": {
          "base_uri": "https://localhost:8080/"
        },
        "outputId": "ecd9402e-47cb-4f4a-e6ff-40bf18f3932a"
      },
      "source": [
        "# Challenge 2\n",
        "# Let's access the fourth item in kenyan_football_players list below\n",
        "#\n",
        "kenya_football_players_fourth_item=kenyan_football_players[3]\n",
        "print(kenya_football_players_fourth_item)"
      ],
      "execution_count": null,
      "outputs": [
        {
          "output_type": "stream",
          "text": [
            "Francis Kahata\n"
          ],
          "name": "stdout"
        }
      ]
    },
    {
      "cell_type": "code",
      "metadata": {
        "id": "xjX0moYs8ooP",
        "colab": {
          "base_uri": "https://localhost:8080/"
        },
        "outputId": "ad2a262b-25e8-4d5e-bcb4-75b5143ca708"
      },
      "source": [
        "# Challenge 3\n",
        "# Let's access the first item in your class list below;\n",
        "#\n",
        "moringa_cohort_10_first_item=moringa_cohort[0]\n",
        "print(moringa_cohort_10_first_item)"
      ],
      "execution_count": null,
      "outputs": [
        {
          "output_type": "stream",
          "text": [
            "Ian\n"
          ],
          "name": "stdout"
        }
      ]
    },
    {
      "cell_type": "markdown",
      "metadata": {
        "id": "Fs8XTeN45iFS"
      },
      "source": [
        "## 1.5 Removing Elements from a List"
      ]
    },
    {
      "cell_type": "code",
      "metadata": {
        "id": "mkNRpT2k8zbi",
        "colab": {
          "base_uri": "https://localhost:8080/"
        },
        "outputId": "7bf12c60-fbef-413d-d146-a5d128382dd1"
      },
      "source": [
        "# Example 1\n",
        "# Let's remove the first item from the fruits list as shown;\n",
        "#\n",
        "fruits.remove(\"bananas\")\n",
        "print(fruits)\n"
      ],
      "execution_count": null,
      "outputs": [
        {
          "output_type": "stream",
          "text": [
            "['grapes', 'mangoes']\n"
          ],
          "name": "stdout"
        }
      ]
    },
    {
      "cell_type": "code",
      "metadata": {
        "id": "9EF5YrosFV5n",
        "colab": {
          "base_uri": "https://localhost:8080/"
        },
        "outputId": "0fa5347f-5d0b-4603-ea3a-742073a9d64e"
      },
      "source": [
        "# Example 2\n",
        "# Then remove the third item from the kenyan cities list as shown;\n",
        "#\n",
        "del kenyan_cities[2];\n",
        "print(kenyan_cities)"
      ],
      "execution_count": null,
      "outputs": [
        {
          "output_type": "stream",
          "text": [
            "['Kwale', 'Mombasa', 'Nakuru']\n"
          ],
          "name": "stdout"
        }
      ]
    },
    {
      "cell_type": "code",
      "metadata": {
        "id": "-zwxINb9FVvE",
        "colab": {
          "base_uri": "https://localhost:8080/"
        },
        "outputId": "17e9564c-4815-40d4-aadd-247cfe4eeb8a"
      },
      "source": [
        "# Example 3\n",
        "# Let's remove the fourth item from counties list as shown;\n",
        "#\n",
        "del Counties[3]\n",
        "print(Counties)"
      ],
      "execution_count": null,
      "outputs": [
        {
          "output_type": "stream",
          "text": [
            "['Kajiado', 'Nairobi', 'Kiambu', 'Turkana', 'Nakuru']\n"
          ],
          "name": "stdout"
        }
      ]
    },
    {
      "cell_type": "markdown",
      "metadata": {
        "id": "SJmtZJu48z-Q"
      },
      "source": [
        "### <font color=\"green\">1.5 Challenges</font>"
      ]
    },
    {
      "cell_type": "code",
      "metadata": {
        "id": "d1AxSTu883KJ",
        "colab": {
          "base_uri": "https://localhost:8080/"
        },
        "outputId": "2b737756-0372-46cf-fa77-2724737c3db6"
      },
      "source": [
        "# Challenge 1 \n",
        "# Remove the first item from the kenya_football_players list \n",
        "# and print the list\n",
        "#\n",
        "del kenyan_football_players[0]\n",
        "print(kenyan_football_players)"
      ],
      "execution_count": null,
      "outputs": [
        {
          "output_type": "stream",
          "text": [
            "['Michael Olunga', 'McDonald Mariga', 'Francis Kahata', 'Francis Kahata']\n"
          ],
          "name": "stdout"
        }
      ]
    },
    {
      "cell_type": "code",
      "metadata": {
        "id": "s7iTn8tf83kI",
        "colab": {
          "base_uri": "https://localhost:8080/"
        },
        "outputId": "3eb06097-8c12-4303-db16-00534b5d1717"
      },
      "source": [
        "# Challenge 2\n",
        "# Remove the second item from the fruits list and print the list\n",
        "#\n",
        "del fruits[1]\n",
        "print(fruits)"
      ],
      "execution_count": null,
      "outputs": [
        {
          "output_type": "stream",
          "text": [
            "['grapes']\n"
          ],
          "name": "stdout"
        }
      ]
    },
    {
      "cell_type": "code",
      "metadata": {
        "id": "EpEg6eWS83c4",
        "colab": {
          "base_uri": "https://localhost:8080/"
        },
        "outputId": "40f79110-4281-4f3e-e56c-fab42f9a3084"
      },
      "source": [
        "# Challenge 3 \n",
        "# Remove the last item from the african presidents list and print the list\n",
        "#\n",
        "del African_presidents[-1]\n",
        "print(African_presidents)"
      ],
      "execution_count": null,
      "outputs": [
        {
          "output_type": "stream",
          "text": [
            "['Uhuru Kenyatta', 'Evariste Ndayishimeye', 'Yoweri Museveni', 'Edgar Lungu', 'Emmerson Mnangagwa', 'Brahim Ghali']\n"
          ],
          "name": "stdout"
        }
      ]
    },
    {
      "cell_type": "markdown",
      "metadata": {
        "id": "QIPUN0KJ5mdp"
      },
      "source": [
        "## 1.6 Slicing a List"
      ]
    },
    {
      "cell_type": "code",
      "metadata": {
        "id": "mX4ZZyjM89tX",
        "colab": {
          "base_uri": "https://localhost:8080/"
        },
        "outputId": "437d3643-ed75-47ad-9026-98a1021618d7"
      },
      "source": [
        "# Example 1\n",
        "# We can print the first two item of the fruits list by slicing and printing them as shown;\n",
        "# The syntax for slicing is start:stop\n",
        "# Start is the index at which we want to start our slice.\n",
        "# Stop is the index at which we want to stop just before finishing the slice. The slicing stops at index stop-1. For exampl, if stop is 2, then the slicing will stop at index (2-1)\n",
        "# \n",
        "fruits = [\"bananas\", \"grapes\", \"mangoes\",\"oranges\",\"pineapple\"]\n",
        "fruits1 = fruits[0:3] \n",
        "print(fruits1)\n",
        "\n"
      ],
      "execution_count": null,
      "outputs": [
        {
          "output_type": "stream",
          "text": [
            "['bananas', 'grapes', 'mangoes']\n"
          ],
          "name": "stdout"
        }
      ]
    },
    {
      "cell_type": "code",
      "metadata": {
        "id": "HjMaEseYKTG_",
        "colab": {
          "base_uri": "https://localhost:8080/"
        },
        "outputId": "eb38ea85-a518-46b7-9c44-fe6bd94240b9"
      },
      "source": [
        "# Example 2\n",
        "# We can print the items from the 2nd item till the end by slicing and printing them as shown;\n",
        "# \n",
        "fruits2 = fruits[2:]\n",
        "print(fruits2)"
      ],
      "execution_count": null,
      "outputs": [
        {
          "output_type": "stream",
          "text": [
            "['mangoes', 'oranges', 'pineapple']\n"
          ],
          "name": "stdout"
        }
      ]
    },
    {
      "cell_type": "code",
      "metadata": {
        "id": "Vx32wP6_KS8E",
        "colab": {
          "base_uri": "https://localhost:8080/"
        },
        "outputId": "8f482faa-a17e-4f5d-97a0-2b2b032bae52"
      },
      "source": [
        "# Example 3\n",
        "# We can print items from beginning of the list to the third element in the fruits list as shown;\n",
        "#\n",
        "fruits3 = fruits[:-2]\n",
        "print(fruits3)"
      ],
      "execution_count": null,
      "outputs": [
        {
          "output_type": "stream",
          "text": [
            "['bananas', 'grapes', 'mangoes']\n"
          ],
          "name": "stdout"
        }
      ]
    },
    {
      "cell_type": "markdown",
      "metadata": {
        "id": "5WwBTWk58-Nj"
      },
      "source": [
        "### <font color=\"green\">1.6 Challenges</font>"
      ]
    },
    {
      "cell_type": "code",
      "metadata": {
        "id": "aBfzUTyF9BSb",
        "colab": {
          "base_uri": "https://localhost:8080/"
        },
        "outputId": "e00c1700-5769-458c-f8b2-784ba1bc8116"
      },
      "source": [
        "# Challenge 1 \n",
        "# Print the first two items of the kenyan_football_players list\n",
        "# \n",
        "kenyan_football_players2=kenyan_football_players[:2]\n",
        "print(kenyan_football_players2)"
      ],
      "execution_count": null,
      "outputs": [
        {
          "output_type": "stream",
          "text": [
            "['Michael Olunga', 'McDonald Mariga']\n"
          ],
          "name": "stdout"
        }
      ]
    },
    {
      "cell_type": "code",
      "metadata": {
        "id": "Lrq8KFE49Bq5",
        "colab": {
          "base_uri": "https://localhost:8080/"
        },
        "outputId": "07fc3684-c424-4c36-b4d7-d043667b8648"
      },
      "source": [
        "# Challenge 2 \n",
        "# Print the last two items of the counties list\n",
        "# \n",
        "Counties2=Counties[-2:]\n",
        "print(Counties2)"
      ],
      "execution_count": null,
      "outputs": [
        {
          "output_type": "stream",
          "text": [
            "['Turkana', 'Nakuru']\n"
          ],
          "name": "stdout"
        }
      ]
    },
    {
      "cell_type": "code",
      "metadata": {
        "id": "Smtu0V519Bke",
        "colab": {
          "base_uri": "https://localhost:8080/"
        },
        "outputId": "e4a24f91-e90f-4ff3-d89e-49a0320f69b1"
      },
      "source": [
        "# Challenge 3 \n",
        "# Print items fron the beginning to the second items in the kenyan_cities list\n",
        "# \n",
        "kenyan_cities2=kenyan_cities[:3]\n",
        "print(kenyan_cities2)"
      ],
      "execution_count": 9,
      "outputs": [
        {
          "output_type": "stream",
          "text": [
            "['Nairobi', 'Mombasa', 'Kisumu']\n"
          ],
          "name": "stdout"
        }
      ]
    }
  ]
}